{
 "cells": [
  {
   "cell_type": "code",
   "execution_count": 1,
   "metadata": {},
   "outputs": [],
   "source": [
    "# Array and image processing toolboxes\n",
    "import numpy as np \n",
    "import skimage\n",
    "import skimage.io\n",
    "import skimage.color\n",
    "import skimage.transform\n",
    "\n",
    "import matplotlib.pyplot as plt\n",
    "%matplotlib inline  "
   ]
  },
  {
   "cell_type": "code",
   "execution_count": 2,
   "metadata": {},
   "outputs": [],
   "source": [
    "DIMX  = 256\n",
    "DIMY  = 256\n",
    "DIMZ  = 256"
   ]
  },
  {
   "cell_type": "code",
   "execution_count": 3,
   "metadata": {},
   "outputs": [
    {
     "name": "stdout",
     "output_type": "stream",
     "text": [
      "(256, 256, 256)\n"
     ]
    }
   ],
   "source": [
    "# Read the volume\n",
    "fname = 'data/image_3d/bucky_256.tif'\n",
    "image = skimage.io.imread(fname)\n",
    "image = np.transpose(image, [1, 2, 0])\n",
    "\n",
    "print(image.shape)\n",
    "\n",
    "##### Doing projection\n",
    "alpha_path = None\n",
    "if alpha_path==None: \n",
    "    # Generate random alpha value\n",
    "    # lut = np.random.uniform(low=0, high=256, size=256).astype(np.uint8)\n",
    "    lut = np.linspace(start=0, stop=10, num=256, endpoint=False).astype(np.uint8)\n",
    "    lut = 128.0 * np.ones_like(lut)\n",
    "    # lut[0] = 0.0\n",
    "    # lut[0] = 0.1\n",
    "    # lut[1] = 0.6\n",
    "    # ..\n",
    "    # lut[255] = 0.2\n",
    "else:\n",
    "    pass"
   ]
  },
  {
   "cell_type": "code",
   "execution_count": 4,
   "metadata": {},
   "outputs": [
    {
     "name": "stderr",
     "output_type": "stream",
     "text": [
      "/usr/local/lib/python2.7/dist-packages/skimage/io/_io.py:132: UserWarning: alpha_s.tif is a low contrast image\n",
      "  warn('%s is a low contrast image' % fname)\n"
     ]
    },
    {
     "data": {
      "image/png": "[encoded data removed]",
      "text/plain": [
       "<matplotlib.figure.Figure at 0x7f518063cd50>"
      ]
     },
     "metadata": {},
     "output_type": "display_data"
    }
   ],
   "source": [
    "color_s = image.copy() \t\t\t\t\t# Construct the per-voxel color (or resample _s)\n",
    "alpha_s = lut[color_s.astype(np.uint8)].astype(np.uint8)\t# Construct the per-voxel alpha (or resample _s)\n",
    "\n",
    "color_h = np.zeros_like(image).astype(np.float32)\n",
    "alpha_h = np.zeros_like(image).astype(np.float32)\n",
    "\n",
    "\n",
    "color = np.zeros((DIMY, DIMX), dtype=np.float32)\n",
    "alpha = np.zeros((DIMY, DIMX), dtype=np.float32)\n",
    "\n",
    "isBackToFront = True\n",
    "if isBackToFront:\n",
    "    # Back-to-front compositing\n",
    "    for i in range(DIMZ-1, -1, -1): # March from 0 to 255\n",
    "        ci = color_s[:,:,i]/255.0\n",
    "        ai = alpha_s[:,:,i]/255.0\n",
    "        # ch_i = ci + (1-ai)*ch_ip1\n",
    "        # ah_i = ai + (1-ai)*ah_ip1\n",
    "        if i==DIMZ-1: # the backest slide\n",
    "            color_h[:,:,i] = ai*ci\n",
    "            alpha_h[:,:,i] = ai\n",
    "        else:\n",
    "            color_h[:,:,i] = ai*ci + (1-ai)*color_h[:,:,i+1]\n",
    "            alpha_h[:,:,i] = ai    + (1-ai)*alpha_h[:,:,i+1]\n",
    "else: \n",
    "    pass\n",
    "    # Front-to-back compositing\n",
    "    for i in range(0, 256, 1): # March from 255 to 0\n",
    "        ci = color_s[:,:,i]/255.0\n",
    "        ai = alpha_s[:,:,i]/255.0\n",
    "        # ch_i = (1-ahim1)*ci + ch_im1\n",
    "        # ah_i = (1-ahim1)*ai + ah_im1\n",
    "        if i==0: # the backest slide\n",
    "            color_h[:,:,i] = ai*ci\n",
    "            alpha_h[:,:,i] = ai\n",
    "        else:\n",
    "            color_h[:,:,i] = (1-alpha_h[:,:,i-1])*ai*ci + color_h[:,:,i-1]\n",
    "            alpha_h[:,:,i] = (1-alpha_h[:,:,i-1])*ai + alpha_h[:,:,i-1]\n",
    "\n",
    "color_h = 255*color_h\n",
    "# Create the img2d image\n",
    "img2d = np.zeros((DIMY, DIMX, 3), dtype=np.uint8)\n",
    "color = skimage.color.gray2rgb(color_h[:,:,0].astype(np.uint8))\n",
    "img2d = color.copy()\n",
    "plt.imshow(img2d)\n",
    "skimage.io.imsave(\"img2d.tif\", np.clip(img2d, 0, 255).astype(np.uint8))\n",
    "\n",
    "color_h = np.transpose(color_h, [2, 0, 1])\n",
    "color_s = np.transpose(color_s, [2, 0, 1])\n",
    "\n",
    "skimage.io.imsave(\"color_h.tif\", np.clip(color_h, 0, 255).astype(np.uint8))\n",
    "skimage.io.imsave(\"color_s.tif\", np.clip(color_s, 0, 255).astype(np.uint8))\n",
    "skimage.io.imsave(\"alpha_s.tif\", np.clip(alpha_s, 0, 255).astype(np.uint8))\n",
    "\n"
   ]
  },
  {
   "cell_type": "code",
   "execution_count": 5,
   "metadata": {},
   "outputs": [
    {
     "data": {
      "text/plain": [
       "u'/home/tmquan/DeepRenderer.bak'"
      ]
     },
     "execution_count": 5,
     "metadata": {},
     "output_type": "execute_result"
    }
   ],
   "source": [
    "pwd"
   ]
  },
  {
   "cell_type": "code",
   "execution_count": 3,
   "metadata": {},
   "outputs": [
    {
     "ename": "NameError",
     "evalue": "name 'image' is not defined",
     "output_type": "error",
     "traceback": [
      "\u001b[0;31m---------------------------------------------------------------------------\u001b[0m",
      "\u001b[0;31mNameError\u001b[0m                                 Traceback (most recent call last)",
      "\u001b[0;32m<ipython-input-3-cf939f3cff90>\u001b[0m in \u001b[0;36m<module>\u001b[0;34m()\u001b[0m\n\u001b[1;32m     12\u001b[0m \u001b[0;31m# reader.SetFileName(fname)\u001b[0m\u001b[0;34m\u001b[0m\u001b[0;34m\u001b[0m\u001b[0m\n\u001b[1;32m     13\u001b[0m \u001b[0;31m# reader.Update()\u001b[0m\u001b[0;34m\u001b[0m\u001b[0;34m\u001b[0m\u001b[0m\n\u001b[0;32m---> 14\u001b[0;31m \u001b[0mreader\u001b[0m \u001b[0;34m=\u001b[0m \u001b[0mnumpy2VTK\u001b[0m\u001b[0;34m(\u001b[0m\u001b[0mimage\u001b[0m\u001b[0;34m)\u001b[0m\u001b[0;34m\u001b[0m\u001b[0m\n\u001b[0m\u001b[1;32m     15\u001b[0m \u001b[0mreader\u001b[0m\u001b[0;34m.\u001b[0m\u001b[0mUpdate\u001b[0m\u001b[0;34m(\u001b[0m\u001b[0;34m)\u001b[0m\u001b[0;34m\u001b[0m\u001b[0m\n\u001b[1;32m     16\u001b[0m \u001b[0;34m\u001b[0m\u001b[0m\n",
      "\u001b[0;31mNameError\u001b[0m: name 'image' is not defined"
     ]
    }
   ],
   "source": [
    "from vtk import *\n",
    "\n",
    "# Construct the color functor and opacity (transparency) functor\n",
    "reader \t\t= vtkTIFFReader()\n",
    "mapper \t\t= vtkFixedPointVolumeRayCastMapper()\n",
    "property \t= vtkVolumeProperty()\n",
    "colorFunc \t= vtkColorTransferFunction()\n",
    "opacityFunc\t= vtkPiecewiseFunction()\n",
    "volume \t\t= vtkVolume()\n",
    "\n",
    "# Read the tif file to vtk reader\n",
    "reader.SetFileName(fname)\n",
    "reader.Update()\n",
    "\n",
    "# Set up the Mapper\n",
    "mapper.SetInputConnection(reader.GetOutputPort())\n",
    "mapper.SetBlendModeToMaximumIntensity()\n",
    "\n",
    "# Set up the Property\n",
    "colorFunc.AddRGBSegment(0.0,   0.0, 0.0, 0.0,\n",
    "                        255.0, 1.0, 1.0, 1.0)\n",
    "opacityWindow = 4096\n",
    "opacityLevel  = 1024\n",
    "opacityFunc.AddSegment(opacityLevel - 0.5*opacityWindow, 0.0,\n",
    "                       opacityLevel + 0.5*opacityWindow, 1.0 )\n",
    "property.SetIndependentComponents(True)\n",
    "property.SetColor(colorFunc)\n",
    "property.SetScalarOpacity(opacityFunc)\n",
    "property.SetInterpolationTypeToLinear()\n",
    "\n",
    "# Set up the Volume\n",
    "volume.SetMapper(mapper)\n",
    "volume.SetProperty(property)\n",
    "# Set up the renderer\n",
    "render \t= vtkRenderer()\n",
    "render.SetBackground(0.1,0.1,0.1)\n",
    "# Add volume\n",
    "render.AddVolume(volume)\n",
    "\n",
    "# Set up the windows\n",
    "renWin\t= vtkRenderWindow()\n",
    "renWin.SetSize(256, 256)\n",
    "renWin.AddRenderer(render)\n",
    "\n",
    "# Set up the interactor\n",
    "iren \t= vtkRenderWindowInteractor()\n",
    "iren.SetRenderWindow(renWin)\n",
    "\n",
    "# Set up the camera\n",
    "camera  = render.GetActiveCamera()\n",
    "center \t= volume.GetCenter()\n",
    "camera.SetFocalPoint(center[0], center[1], center[2])\n",
    "camera.SetPosition(center[0], center[1]-256, center[2])\n",
    "camera.SetViewUp(0, 0, -1)\n",
    "\n",
    "# Start renderer\n",
    "renWin.Render()\n",
    "iren.Initialize()\n",
    "iren.Start()"
   ]
  },
  {
   "cell_type": "code",
   "execution_count": 7,
   "metadata": {},
   "outputs": [
    {
     "name": "stderr",
     "output_type": "stream",
     "text": [
      "/usr/local/lib/python2.7/dist-packages/vtk/util/numpy_support.py:137: FutureWarning: Conversion of the second argument of issubdtype from `complex` to `np.complexfloating` is deprecated. In future, it will be treated as `np.complex128 == np.dtype(complex).type`.\n",
      "  assert not numpy.issubdtype(z.dtype, complex), \\\n"
     ]
    }
   ],
   "source": []
  },
  {
   "cell_type": "code",
   "execution_count": 8,
   "metadata": {},
   "outputs": [],
   "source": [
    "iren.TerminateApp()"
   ]
  },
  {
   "cell_type": "code",
   "execution_count": 2,
   "metadata": {},
   "outputs": [],
   "source": [
    "def numpy2VTK(img,spacing=[1.0,1.0,1.0]):\n",
    "    # evolved from code from Stou S.,\n",
    "    # on http://www.siafoo.net/snippet/314\n",
    "    importer = vtk.vtkImageImport()\n",
    "    \n",
    "    img_data = img.astype('uint8')\n",
    "    img_string = img_data.tostring() # type short\n",
    "    dim = img.shape\n",
    "    \n",
    "    importer.CopyImportVoidPointer(img_string, len(img_string))\n",
    "    importer.SetDataScalarType(VTK_UNSIGNED_CHAR)\n",
    "    importer.SetNumberOfScalarComponents(1)\n",
    "    \n",
    "    extent = importer.GetDataExtent()\n",
    "    importer.SetDataExtent(extent[0], extent[0] + dim[2] - 1,\n",
    "                           extent[2], extent[2] + dim[1] - 1,\n",
    "                           extent[4], extent[4] + dim[0] - 1)\n",
    "    importer.SetWholeExtent(extent[0], extent[0] + dim[2] - 1,\n",
    "                            extent[2], extent[2] + dim[1] - 1,\n",
    "                            extent[4], extent[4] + dim[0] - 1)\n",
    "\n",
    "    importer.SetDataSpacing( spacing[0], spacing[1], spacing[2])\n",
    "    importer.SetDataOrigin( 0,0,0 )\n",
    "\n",
    "    return importer\n"
   ]
  },
  {
   "cell_type": "code",
   "execution_count": 11,
   "metadata": {},
   "outputs": [],
   "source": [
    "reader = vtkArrayReader()"
   ]
  },
  {
   "cell_type": "code",
   "execution_count": null,
   "metadata": {},
   "outputs": [],
   "source": [
    "# Array and image processing toolboxes\n",
    "import numpy as np \n",
    "import skimage\n",
    "import skimage.io\n",
    "import skimage.color\n",
    "import skimage.transform\n",
    "\n",
    "import matplotlib.pyplot as plt\n",
    "%matplotlib inline  \n",
    "from vtk import *\n",
    "from vtk.util import numpy_support\n",
    "\n",
    "# Read the volume\n",
    "fname = 'data/image_3d/bucky_256.tif'\n",
    "image = skimage.io.imread(fname)\n",
    "image = np.transpose(image, [1, 2, 0])\n",
    "\n",
    "print(image.shape)\n",
    "\n",
    "# Construct the color functor and opacity (transparency) functor\n",
    "# reader \t\t= vtkTIFFReader()\n",
    "mapper \t\t= vtkFixedPointVolumeRayCastMapper()\n",
    "property \t= vtkVolumeProperty()\n",
    "colorFunc \t= vtkColorTransferFunction()\n",
    "opacityFunc\t= vtkPiecewiseFunction()\n",
    "volume \t\t= vtkVolume()\n",
    "\n",
    "# Read the tif file to vtk reader\n",
    "# reader.SetFileName(fname)\n",
    "# reader.Update()\n",
    "np_arr= skimage.io.imread(fname)\n",
    "vtk_array = numpy_support.numpy_to_vtk(\n",
    "        num_array = np_arr.transpose(2, 1, 0).ravel(),  # ndarray contains the fitting result from the points. It is a 3D array\n",
    "        deep=True,\n",
    "        array_type=vtk.VTK_FLOAT)\n",
    "\n",
    "image = vtk.vtkImageData() \n",
    "points = image.GetPointData()\n",
    "points.SetScalars(vtk_array)\n",
    "image.SetDimensions(np_arr.shape)\n",
    "# image.Update()\n",
    "\n",
    "# reader.SetInputData(vtk_array)\n",
    "reader = vtkArrayReader()\n",
    "reader.SetInputData(image)\n",
    "\n",
    "reader.Update()\n",
    "\n",
    "# Set up the Mapper\n",
    "mapper.SetInputConnection(reader.GetOutputPort())\n",
    "mapper.SetBlendModeToMaximumIntensity()\n",
    "\n",
    "# Set up the Property\n",
    "colorFunc.AddRGBSegment(0.0,   0.0, 0.0, 0.0,\n",
    "                        255.0, 1.0, 1.0, 1.0)\n",
    "opacityWindow = 4096\n",
    "opacityLevel  = 1024\n",
    "opacityFunc.AddSegment(opacityLevel - 0.5*opacityWindow, 0.0,\n",
    "                       opacityLevel + 0.5*opacityWindow, 1.0 )\n",
    "property.SetIndependentComponents(True)\n",
    "property.SetColor(colorFunc)\n",
    "property.SetScalarOpacity(opacityFunc)\n",
    "property.SetInterpolationTypeToLinear()\n",
    "\n",
    "# Set up the Volume\n",
    "volume.SetMapper(mapper)\n",
    "volume.SetProperty(property)\n",
    "# Set up the renderer\n",
    "render \t= vtkRenderer()\n",
    "render.SetBackground(0.1,0.1,0.1)\n",
    "# Add volume\n",
    "render.AddVolume(volume)\n",
    "\n",
    "# Set up the windows\n",
    "renWin\t= vtkRenderWindow()\n",
    "renWin.SetSize(256, 256)\n",
    "renWin.AddRenderer(render)\n",
    "\n",
    "# Set up the interactor\n",
    "iren \t= vtkRenderWindowInteractor()\n",
    "iren.SetRenderWindow(renWin)\n",
    "\n",
    "# Set up the camera\n",
    "camera  = render.GetActiveCamera()\n",
    "center \t= volume.GetCenter()\n",
    "camera.SetFocalPoint(center[0], center[1], center[2])\n",
    "camera.SetPosition(center[0], center[1]-512, center[2])\n",
    "camera.SetViewUp(0, 0, -1)\n",
    "\n",
    "# Start renderer\n",
    "renWin.Render()\n",
    "iren.Initialize()\n",
    "iren.Start()"
   ]
  }
 ],
 "metadata": {
  "kernelspec": {
   "display_name": "Python 2",
   "language": "python",
   "name": "python2"
  },
  "language_info": {
   "codemirror_mode": {
    "name": "ipython",
    "version": 2
   },
   "file_extension": ".py",
   "mimetype": "text/x-python",
   "name": "python",
   "nbconvert_exporter": "python",
   "pygments_lexer": "ipython2",
   "version": "2.7.12"
  }
 },
 "nbformat": 4,
 "nbformat_minor": 2
}
