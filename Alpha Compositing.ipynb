{
 "cells": [
  {
   "cell_type": "code",
   "execution_count": 1,
   "metadata": {},
   "outputs": [],
   "source": [
    "# Array and image processing toolboxes\n",
    "import numpy as np \n",
    "import skimage\n",
    "import skimage.io\n",
    "import skimage.color\n",
    "import skimage.transform"
   ]
  },
  {
   "cell_type": "code",
   "execution_count": 2,
   "metadata": {},
   "outputs": [],
   "source": [
    "DIMX  = 256\n",
    "DIMY  = 256\n",
    "DIMZ  = 256"
   ]
  },
  {
   "cell_type": "code",
   "execution_count": 3,
   "metadata": {},
   "outputs": [
    {
     "name": "stdout",
     "output_type": "stream",
     "text": [
      "(256, 256, 256)\n"
     ]
    }
   ],
   "source": [
    "# Read the volume\n",
    "fname = 'data/image_3d/bucky_256.tif'\n",
    "image = skimage.io.imread(fname)\n",
    "image = np.transpose(image, [1, 2, 0])\n",
    "\n",
    "print(image.shape)\n",
    "\n",
    "##### Doing projection\n",
    "alpha_path = None\n",
    "if alpha_path==None: \n",
    "    # Generate random alpha value\n",
    "    # lut = np.random.uniform(low=0, high=256, size=256).astype(np.uint8)\n",
    "    lut = np.linspace(start=0, stop=10, num=256, endpoint=False).astype(np.uint8)\n",
    "    #lut = 32.0 * np.ones_like(lut)\n",
    "    # lut[0] = 0.0\n",
    "    # lut[0] = 0.1\n",
    "    # lut[1] = 0.6\n",
    "    # ..\n",
    "    # lut[255] = 0.2\n",
    "else:\n",
    "    pass"
   ]
  },
  {
   "cell_type": "code",
   "execution_count": 4,
   "metadata": {},
   "outputs": [
    {
     "name": "stderr",
     "output_type": "stream",
     "text": [
      "/usr/local/lib/python2.7/dist-packages/skimage/io/_io.py:132: UserWarning: alpha_s.tif is a low contrast image\n",
      "  warn('%s is a low contrast image' % fname)\n"
     ]
    }
   ],
   "source": [
    "color_s = image.copy() \t\t\t\t\t# Construct the per-voxel color (or resample _s)\n",
    "alpha_s = lut[color_s.astype(np.uint8)].astype(np.uint8)\t# Construct the per-voxel alpha (or resample _s)\n",
    "\n",
    "color_h = np.zeros_like(image).astype(np.float32)\n",
    "alpha_h = np.zeros_like(image).astype(np.float32)\n",
    "\n",
    "\n",
    "color = np.zeros((DIMY, DIMX), dtype=np.float32)\n",
    "alpha = np.zeros((DIMY, DIMX), dtype=np.float32)\n",
    "\n",
    "isBackToFront = True\n",
    "if isBackToFront:\n",
    "    # Back-to-front compositing\n",
    "    for i in range(DIMZ-1, -1, -1): # March from 0 to 255\n",
    "        ci = color_s[:,:,i]/255.0\n",
    "        ai = alpha_s[:,:,i]/255.0\n",
    "        # ch_i = ci + (1-ai)*ch_ip1\n",
    "        # ah_i = ai + (1-ai)*ah_ip1\n",
    "        if i==DIMZ-1: # the backest slide\n",
    "            color_h[:,:,i] = ci\n",
    "            alpha_h[:,:,i] = ai\n",
    "        else:\n",
    "            color_h[:,:,i] = ci + (1-ai)*color_h[:,:,i+1]\n",
    "            alpha_h[:,:,i] = ai + (1-ai)*alpha_h[:,:,i+1]\n",
    "            #color_h[:,:,i] = ci + (1-alpha_h[:,:,i])*color_h[:,:,i+1]\n",
    "            #alpha_h[:,:,i] = ai + (1-alpha_h[:,:,i])*alpha_h[:,:,i+1]\n",
    "            #color_h[:,:,i] = ci + (1-alpha_h[:,:,i+1])*color_h[:,:,i+1]\n",
    "            #alpha_h[:,:,i] = ai + (1-alpha_h[:,:,i+1])*alpha_h[:,:,i+1]\n",
    "else: \n",
    "    pass\n",
    "#     # Front-to-back compositing\n",
    "#     for i in range(0, 256, 1): # March from 255 to 0\n",
    "#         ci = color_s[:,:,i]/255.0\n",
    "#         ai = alpha_s[:,:,i]/255.0\n",
    "#         # ch_i = (1-ahim1)*ci + ch_im1\n",
    "#         # ah_i = (1-ahim1)*ai + ah_im1\n",
    "#         if i==0: # the backest slide\n",
    "#             color_h[:,:,i] = ci\n",
    "#             alpha_h[:,:,i] = ai\n",
    "#         else:\n",
    "#             color_h[:,:,i] = (1-alpha_h[:,:,i-1])*ci + color_h[:,:,i-1]\n",
    "#             alpha_h[:,:,i] = (1-alpha_h[:,:,i-1])*ai + alpha_h[:,:,i-1]\n",
    "            \n",
    "color_h = np.transpose(color_h, [2, 0, 1])\n",
    "color_s = np.transpose(color_s, [2, 0, 1])\n",
    "color_h = 255*color_h\n",
    "skimage.io.imsave(\"color_h.tif\", np.clip(color_h, 0, 255).astype(np.uint8))\n",
    "skimage.io.imsave(\"color_s.tif\", np.clip(color_s, 0, 255).astype(np.uint8))\n",
    "skimage.io.imsave(\"alpha_s.tif\", np.clip(alpha_s, 0, 255).astype(np.uint8))\n",
    "\n",
    "# Create the img2d image\n",
    "img2d = np.zeros((DIMY, DIMX, 3), dtype=np.float32)\n",
    "color = skimage.color.gray2rgb(color_h[:,:,0])\n",
    "img2d = color.copy()\n",
    "skimage.io.imsave(\"img2d.tif\", np.clip(img2d, 0, 255).astype(np.uint8))"
   ]
  },
  {
   "cell_type": "code",
   "execution_count": null,
   "metadata": {},
   "outputs": [],
   "source": []
  }
 ],
 "metadata": {
  "kernelspec": {
   "display_name": "Python 2",
   "language": "python",
   "name": "python2"
  },
  "language_info": {
   "codemirror_mode": {
    "name": "ipython",
    "version": 2
   },
   "file_extension": ".py",
   "mimetype": "text/x-python",
   "name": "python",
   "nbconvert_exporter": "python",
   "pygments_lexer": "ipython2",
   "version": "2.7.12"
  }
 },
 "nbformat": 4,
 "nbformat_minor": 2
}
